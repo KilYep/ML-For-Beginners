{
 "metadata": {
  "language_info": {
   "codemirror_mode": {
    "name": "ipython",
    "version": 3
   },
   "file_extension": ".py",
   "mimetype": "text/x-python",
   "name": "python",
   "nbconvert_exporter": "python",
   "pygments_lexer": "ipython3",
   "version": 3
  },
  "orig_nbformat": 2,
  "coopTranslator": {
   "original_hash": "523ec472196307b3c4235337353c9ceb",
   "translation_date": "2025-10-11T12:36:08+00:00",
   "source_file": "7-TimeSeries/2-ARIMA/working/notebook.ipynb",
   "language_code": "et"
  }
 },
 "nbformat": 4,
 "nbformat_minor": 2,
 "cells": [
  {
   "source": [
    "# Ajaarjade prognoosimine ARIMA-ga\n",
    "\n",
    "Selles märkmikus näitame, kuidas:\n",
    "- ette valmistada ajaandmeid ARIMA aja prognoosimismudeli treenimiseks\n",
    "- rakendada lihtsat ARIMA mudelit, et prognoosida järgmised HORIZON sammud ette (aeg *t+1* kuni *t+HORIZON*) ajaandmetes\n",
    "- hinnata mudelit\n",
    "\n",
    "Selle näite andmed pärinevad GEFCom2014 prognoosimisvõistluselt<sup>1</sup>. Need sisaldavad 3 aastat tunnipõhiseid elektrikoormuse ja temperatuuri väärtusi ajavahemikus 2012–2014. Ülesandeks on prognoosida elektrikoormuse tulevasi väärtusi. Selles näites näitame, kuidas prognoosida üks ajasamm ette, kasutades ainult ajaloolisi koormusandmeid.\n",
    "\n",
    "<sup>1</sup>Tao Hong, Pierre Pinson, Shu Fan, Hamidreza Zareipour, Alberto Troccoli ja Rob J. Hyndman, \"Tõenäosuslik energia prognoosimine: Global Energy Forecasting Competition 2014 ja edasi\", International Journal of Forecasting, vol.32, nr.3, lk 896-913, juuli-september, 2016.\n"
   ],
   "cell_type": "markdown",
   "metadata": {}
  },
  {
   "cell_type": "code",
   "execution_count": null,
   "metadata": {},
   "outputs": [],
   "source": [
    "pip install statsmodels"
   ]
  },
  {
   "cell_type": "markdown",
   "metadata": {},
   "source": [
    "\n---\n\n**Lahtiütlus**:  \nSee dokument on tõlgitud AI tõlketeenuse [Co-op Translator](https://github.com/Azure/co-op-translator) abil. Kuigi püüame tagada täpsust, palume arvestada, et automaatsed tõlked võivad sisaldada vigu või ebatäpsusi. Algne dokument selle algses keeles tuleks pidada autoriteetseks allikaks. Olulise teabe puhul soovitame kasutada professionaalset inimtõlget. Me ei vastuta selle tõlke kasutamisest tulenevate arusaamatuste või valesti tõlgenduste eest.\n"
   ]
  }
 ]
}